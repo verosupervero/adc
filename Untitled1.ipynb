{
 "cells": [
  {
   "cell_type": "code",
   "execution_count": 26,
   "metadata": {},
   "outputs": [],
   "source": [
    "import sympy as sp\n",
    "from sympy import *\n",
    "sp.init_printing()\n"
   ]
  },
  {
   "cell_type": "code",
   "execution_count": 34,
   "metadata": {},
   "outputs": [],
   "source": [
    " # Use this for your imaginary symbol\n",
    "j = sp.Symbol('j')\n",
    "\n",
    "vp,vq=sp.symbols('vp,vq')\n",
    "eq1= sp.Eq(vp*(1/4+1+1/(-j))-vq*(1/(-j)),6)\n",
    "eq2= sp.Eq(2*vp,-vp*(1/(-j))+vq*(1/(-j)+1/(2*j)))\n",
    "sol=sp.solve([eq1,eq2],[vp,vq])\n",
    "n=sol.get(vp)\n"
   ]
  },
  {
   "cell_type": "code",
   "execution_count": null,
   "metadata": {
    "collapsed": true
   },
   "outputs": [],
   "source": []
  }
 ],
 "metadata": {
  "kernelspec": {
   "display_name": "Python 3",
   "language": "python",
   "name": "python3"
  },
  "language_info": {
   "codemirror_mode": {
    "name": "ipython",
    "version": 3
   },
   "file_extension": ".py",
   "mimetype": "text/x-python",
   "name": "python",
   "nbconvert_exporter": "python",
   "pygments_lexer": "ipython3",
   "version": "3.6.2"
  }
 },
 "nbformat": 4,
 "nbformat_minor": 2
}

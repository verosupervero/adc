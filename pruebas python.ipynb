{
 "cells": [
  {
   "cell_type": "code",
   "execution_count": 2,
   "metadata": {},
   "outputs": [
    {
     "data": {
      "text/latex": [
       "$\\displaystyle \\cos{\\left(t w \\right)} \\theta\\left(t\\right)$"
      ],
      "text/plain": [
       "cos(t*w)*Heaviside(t)"
      ]
     },
     "execution_count": 2,
     "metadata": {},
     "output_type": "execute_result"
    }
   ],
   "source": [
    "from sympy import *\n",
    "from numpy import linspace\n",
    "#import sympy as sp\n",
    "s, t = symbols('s, t')\n",
    "w = symbols('w', real = True)\n",
    "expression = s/(s**2+w**2)\n",
    "\n",
    "inverse_laplace_transform(expression, s, t)"
   ]
  },
  {
   "cell_type": "code",
   "execution_count": 3,
   "metadata": {},
   "outputs": [
    {
     "data": {
      "text/latex": [
       "$\\displaystyle 1.0 \\left(0.576919659766337 \\sin{\\left(1547.61583330619 t \\right)} - 1.0 \\cos{\\left(1547.61583330619 t \\right)}\\right) e^{- 892.85 t} \\theta\\left(t\\right)$"
      ],
      "text/plain": [
       "1.0*(0.576919659766337*sin(1547.61583330619*t) - 1.0*cos(1547.61583330619*t))*exp(-892.85*t)*Heaviside(t)"
      ]
     },
     "execution_count": 3,
     "metadata": {},
     "output_type": "execute_result"
    }
   ],
   "source": [
    "f=(-s)/(s**2+1785.7*s+1785.7*1787.7)\n",
    "l=inverse_laplace_transform(f, s, t)\n",
    "l"
   ]
  },
  {
   "cell_type": "code",
   "execution_count": 13,
   "metadata": {},
   "outputs": [
    {
     "name": "stdout",
     "output_type": "stream",
     "text": [
      "0.63116 |                        .. ...                          \n",
      "        |                      ..      ..                        \n",
      "        |                     .          ..                      \n",
      "        |                                  \\                     \n",
      "        |                    .              \\                    \n",
      "        | .                 /                ..                ..\n",
      "        |                  .                   ..          ....  \n",
      "        |                                        .... .....      \n",
      "-0.3931 | -.--------------.--------------------------.-----------\n",
      "        |                .                                       \n",
      "        |                                                        \n",
      "        |   .           .                                        \n",
      "        |                                                        \n",
      "        |    .         .                                         \n",
      "        |             /                                          \n",
      "        |     .      /                                           \n",
      "        |      \\    /                                            \n",
      "-1.4173 |       ....                                             \n",
      "          0                      5                          10\n"
     ]
    },
    {
     "data": {
      "text/plain": [
       "<sympy.plotting.plot.Plot at 0x7f56effa5160>"
      ]
     },
     "execution_count": 13,
     "metadata": {},
     "output_type": "execute_result"
    }
   ],
   "source": [
    "def Heaviside(x):\n",
    "    return 1 * (x > 0)\n",
    "Heaviside=Heaviside(t)\n",
    "\n",
    "plot(-2.06559111797729*exp(-0.25*t)*sin(0.968245836551854*t), (t, 0, 10), ylabel='Speed')"
   ]
  },
  {
   "cell_type": "code",
   "execution_count": null,
   "metadata": {},
   "outputs": [],
   "source": []
  }
 ],
 "metadata": {
  "kernelspec": {
   "display_name": "Python 3",
   "language": "python",
   "name": "python3"
  },
  "language_info": {
   "codemirror_mode": {
    "name": "ipython",
    "version": 3
   },
   "file_extension": ".py",
   "mimetype": "text/x-python",
   "name": "python",
   "nbconvert_exporter": "python",
   "pygments_lexer": "ipython3",
   "version": "3.7.3"
  }
 },
 "nbformat": 4,
 "nbformat_minor": 2
}
